{
  "nbformat": 4,
  "nbformat_minor": 0,
  "metadata": {
    "colab": {
      "provenance": [],
      "authorship_tag": "ABX9TyPGof+IytRFhwngai6gsPXV",
      "include_colab_link": true
    },
    "kernelspec": {
      "name": "python3",
      "display_name": "Python 3"
    },
    "language_info": {
      "name": "python"
    }
  },
  "cells": [
    {
      "cell_type": "markdown",
      "metadata": {
        "id": "view-in-github",
        "colab_type": "text"
      },
      "source": [
        "<a href=\"https://colab.research.google.com/github/zainaae/100daysChallenge/blob/main/100dayChallenge.ipynb\" target=\"_parent\"><img src=\"https://colab.research.google.com/assets/colab-badge.svg\" alt=\"Open In Colab\"/></a>"
      ]
    },
    {
      "cell_type": "markdown",
      "source": [
        "#Day 1\n"
      ],
      "metadata": {
        "id": "DMm0TGhcKaWG"
      }
    },
    {
      "cell_type": "code",
      "execution_count": 1,
      "metadata": {
        "colab": {
          "base_uri": "https://localhost:8080/"
        },
        "id": "uogBM0TZKSi8",
        "outputId": "301bf8d1-5a36-4e6e-881a-516eb4bacacb"
      },
      "outputs": [
        {
          "output_type": "stream",
          "name": "stdout",
          "text": [
            "Hello Zain Noorani, would you like to learn some Python today?\n",
            "ZAIN NOORANI\n",
            "zain noorani\n",
            "Zain Noorani\n"
          ]
        }
      ],
      "source": [
        "# q2\n",
        "\n",
        "Name = \"Zain Noorani\"\n",
        "print (\"Hello \" + Name + \", would you like to learn some Python today?\")\n",
        "\n",
        "# q3\n",
        "\n",
        "print (str.upper(Name))\n",
        "print (str.lower(Name))\n",
        "print (str.title(Name))\n"
      ]
    },
    {
      "cell_type": "markdown",
      "source": [
        "#Day 2\n"
      ],
      "metadata": {
        "id": "ysmSouleKqaY"
      }
    },
    {
      "cell_type": "code",
      "source": [
        "#q4\n",
        "\n",
        "print ('''Albert Einstein once said, \"A person who never made a mistake never tried anything new.\"''')\n",
        "print ('''This quote suggests that making mistakes is a natural part of the learning process''')\n",
        "\n",
        "#q5\n",
        "\n",
        "famous_person = \" Albert Einstein \"\n",
        "message = ''' once said, \"A person who never made a mistake never tried anything new.\"'''\n",
        "print (famous_person + message)\n",
        "\n",
        "#q6\n",
        "\n",
        "print (famous_person)\n",
        "print (famous_person.strip())"
      ],
      "metadata": {
        "colab": {
          "base_uri": "https://localhost:8080/"
        },
        "id": "-1g70IsVKwCa",
        "outputId": "adb9c84d-1b92-4731-dc7c-6063a6e69826"
      },
      "execution_count": 2,
      "outputs": [
        {
          "output_type": "stream",
          "name": "stdout",
          "text": [
            "Albert Einstein once said, \"A person who never made a mistake never tried anything new.\"\n",
            "This quote suggests that making mistakes is a natural part of the learning process\n",
            " Albert Einstein  once said, \"A person who never made a mistake never tried anything new.\"\n",
            " Albert Einstein \n",
            "Albert Einstein\n"
          ]
        }
      ]
    }
  ]
}